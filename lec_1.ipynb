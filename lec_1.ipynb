{
 "cells": [
  {
   "cell_type": "code",
   "execution_count": 1,
   "id": "5c278a5f",
   "metadata": {},
   "outputs": [
    {
     "data": {
      "text/plain": [
       "'\\nAuthor: Patrick Houlihan\\nProject: Lecture \\n'"
      ]
     },
     "execution_count": 1,
     "metadata": {},
     "output_type": "execute_result"
    }
   ],
   "source": [
    "\"\"\"\n",
    "This is a multiline comment\n",
    "Author: Patrick Houlihan\n",
    "Project: Lecture \n",
    "\"\"\""
   ]
  },
  {
   "cell_type": "code",
   "execution_count": 2,
   "id": "93b265b6",
   "metadata": {},
   "outputs": [],
   "source": [
    "#This is a single line comment"
   ]
  },
  {
   "cell_type": "code",
   "execution_count": 10,
   "id": "b1c363a6",
   "metadata": {},
   "outputs": [],
   "source": [
    "my_var_int = 1\n",
    "my_var_string = \"patrick houlihan\"\n",
    "my_var_boolean = True #False\n",
    "my_var_float = 3.14"
   ]
  },
  {
   "cell_type": "code",
   "execution_count": 7,
   "id": "29cf539c",
   "metadata": {},
   "outputs": [
    {
     "name": "stdout",
     "output_type": "stream",
     "text": [
      "patrick houlihan\n"
     ]
    }
   ],
   "source": [
    "print (my_var_string)"
   ]
  },
  {
   "cell_type": "code",
   "execution_count": 8,
   "id": "b2388b6a",
   "metadata": {},
   "outputs": [],
   "source": [
    "my_var_int = 20"
   ]
  },
  {
   "cell_type": "code",
   "execution_count": 9,
   "id": "36eb992b",
   "metadata": {},
   "outputs": [
    {
     "name": "stdout",
     "output_type": "stream",
     "text": [
      "20\n"
     ]
    }
   ],
   "source": [
    "print (my_var_int)"
   ]
  },
  {
   "cell_type": "code",
   "execution_count": 12,
   "id": "c05f82be",
   "metadata": {},
   "outputs": [
    {
     "name": "stdout",
     "output_type": "stream",
     "text": [
      "<class 'float'>\n"
     ]
    }
   ],
   "source": [
    "print (type(my_var_float))"
   ]
  },
  {
   "cell_type": "code",
   "execution_count": 17,
   "id": "61244cc6",
   "metadata": {},
   "outputs": [
    {
     "name": "stdout",
     "output_type": "stream",
     "text": [
      "<class 'str'>\n"
     ]
    }
   ],
   "source": [
    "my_int_str = \"1234\"\n",
    "print (type(my_int_str))"
   ]
  },
  {
   "cell_type": "code",
   "execution_count": 18,
   "id": "7a586947",
   "metadata": {},
   "outputs": [
    {
     "name": "stdout",
     "output_type": "stream",
     "text": [
      "<class 'int'>\n"
     ]
    }
   ],
   "source": [
    "my_int_str_conv = int(my_int_str)\n",
    "print (type(my_int_str_conv))"
   ]
  },
  {
   "cell_type": "code",
   "execution_count": 21,
   "id": "829e4469",
   "metadata": {},
   "outputs": [],
   "source": [
    "my_string = \"Patrick\" + \" \" + \"Houlihan\""
   ]
  },
  {
   "cell_type": "code",
   "execution_count": 22,
   "id": "e073194e",
   "metadata": {},
   "outputs": [
    {
     "name": "stdout",
     "output_type": "stream",
     "text": [
      "Patrick Houlihan\n"
     ]
    }
   ],
   "source": [
    "print (my_string)"
   ]
  },
  {
   "cell_type": "code",
   "execution_count": 23,
   "id": "8b600013",
   "metadata": {},
   "outputs": [
    {
     "name": "stdout",
     "output_type": "stream",
     "text": [
      "Patrick HoulihanPatrick Houlihan\n"
     ]
    }
   ],
   "source": [
    "print (my_string*2)"
   ]
  },
  {
   "cell_type": "code",
   "execution_count": 25,
   "id": "133ba844",
   "metadata": {},
   "outputs": [
    {
     "name": "stdout",
     "output_type": "stream",
     "text": [
      "<class 'list'>\n"
     ]
    }
   ],
   "source": [
    "#data structure type list\n",
    "my_list = []\n",
    "#my_list = list()\n",
    "print (type(my_list))"
   ]
  },
  {
   "cell_type": "code",
   "execution_count": 26,
   "id": "e43e76f1",
   "metadata": {},
   "outputs": [
    {
     "name": "stdout",
     "output_type": "stream",
     "text": [
      "[]\n"
     ]
    }
   ],
   "source": [
    "print (my_list)"
   ]
  },
  {
   "cell_type": "code",
   "execution_count": 27,
   "id": "62894367",
   "metadata": {},
   "outputs": [],
   "source": [
    "my_list.append(\"patrick\")"
   ]
  },
  {
   "cell_type": "code",
   "execution_count": 29,
   "id": "12811f5b",
   "metadata": {},
   "outputs": [],
   "source": [
    "my_list.append(\"patrick\")"
   ]
  },
  {
   "cell_type": "code",
   "execution_count": 31,
   "id": "1127f051",
   "metadata": {},
   "outputs": [],
   "source": [
    "my_list.append(\"jen\")"
   ]
  },
  {
   "cell_type": "code",
   "execution_count": 32,
   "id": "3db3479f",
   "metadata": {},
   "outputs": [
    {
     "name": "stdout",
     "output_type": "stream",
     "text": [
      "['patrick', 'patrick', 'jen']\n"
     ]
    }
   ],
   "source": [
    "print (my_list)"
   ]
  },
  {
   "cell_type": "code",
   "execution_count": 33,
   "id": "4dce1b9d",
   "metadata": {},
   "outputs": [
    {
     "data": {
      "text/plain": [
       "'jen'"
      ]
     },
     "execution_count": 33,
     "metadata": {},
     "output_type": "execute_result"
    }
   ],
   "source": [
    "my_list[2]"
   ]
  },
  {
   "cell_type": "code",
   "execution_count": 34,
   "id": "5d0fb40e",
   "metadata": {},
   "outputs": [
    {
     "name": "stdout",
     "output_type": "stream",
     "text": [
      "3\n"
     ]
    }
   ],
   "source": [
    "print (len(my_list))"
   ]
  },
  {
   "cell_type": "code",
   "execution_count": 35,
   "id": "e38c3a8d",
   "metadata": {},
   "outputs": [
    {
     "name": "stdout",
     "output_type": "stream",
     "text": [
      "['jen', 'patrick', 'patrick']\n"
     ]
    }
   ],
   "source": [
    "#reverse a list\n",
    "print (my_list[::-1])"
   ]
  },
  {
   "cell_type": "code",
   "execution_count": 36,
   "id": "b37b3528",
   "metadata": {},
   "outputs": [
    {
     "name": "stdout",
     "output_type": "stream",
     "text": [
      "['patrick', 'patrick']\n"
     ]
    }
   ],
   "source": [
    "print (my_list[0:2])"
   ]
  },
  {
   "cell_type": "code",
   "execution_count": 47,
   "id": "89184e48",
   "metadata": {},
   "outputs": [],
   "source": [
    "my_list_a = [1,2,3]\n",
    "my_list_b = [21,31,41]"
   ]
  },
  {
   "cell_type": "code",
   "execution_count": 38,
   "id": "9f093596",
   "metadata": {},
   "outputs": [
    {
     "name": "stdout",
     "output_type": "stream",
     "text": [
      "[1, 2, 3]\n"
     ]
    }
   ],
   "source": [
    "my_list_a_copy = my_list_a\n",
    "print (my_list_a_copy)"
   ]
  },
  {
   "cell_type": "code",
   "execution_count": 39,
   "id": "56395ab3",
   "metadata": {},
   "outputs": [
    {
     "name": "stdout",
     "output_type": "stream",
     "text": [
      "[1, 2, 3, 4]\n"
     ]
    }
   ],
   "source": [
    "my_list_a.append(4)\n",
    "print (my_list_a)"
   ]
  },
  {
   "cell_type": "code",
   "execution_count": 40,
   "id": "e48365cd",
   "metadata": {},
   "outputs": [
    {
     "name": "stdout",
     "output_type": "stream",
     "text": [
      "[1, 2, 3, 4]\n"
     ]
    }
   ],
   "source": [
    "print (my_list_a_copy)"
   ]
  },
  {
   "cell_type": "code",
   "execution_count": 41,
   "id": "7668e9ff",
   "metadata": {},
   "outputs": [
    {
     "name": "stdout",
     "output_type": "stream",
     "text": [
      "[1, 2, 3, 4]\n"
     ]
    }
   ],
   "source": [
    "my_list_a_copy = my_list_a.copy()\n",
    "print (my_list_a_copy)"
   ]
  },
  {
   "cell_type": "code",
   "execution_count": 42,
   "id": "d6f3bbb4",
   "metadata": {},
   "outputs": [
    {
     "name": "stdout",
     "output_type": "stream",
     "text": [
      "[1, 2, 3, 4, 123]\n"
     ]
    }
   ],
   "source": [
    "my_list_a.append(123)\n",
    "print (my_list_a)"
   ]
  },
  {
   "cell_type": "code",
   "execution_count": 43,
   "id": "41adaecb",
   "metadata": {},
   "outputs": [
    {
     "name": "stdout",
     "output_type": "stream",
     "text": [
      "[1, 2, 3, 4]\n"
     ]
    }
   ],
   "source": [
    "print (my_list_a_copy)"
   ]
  },
  {
   "cell_type": "code",
   "execution_count": 45,
   "id": "b51d315e",
   "metadata": {},
   "outputs": [
    {
     "name": "stdout",
     "output_type": "stream",
     "text": [
      "[21, 31, 41]\n"
     ]
    }
   ],
   "source": [
    "print (my_list_b)"
   ]
  },
  {
   "cell_type": "code",
   "execution_count": 48,
   "id": "74903107",
   "metadata": {},
   "outputs": [
    {
     "name": "stdout",
     "output_type": "stream",
     "text": [
      "[1, 2, 3, 21, 31, 41]\n"
     ]
    }
   ],
   "source": [
    "#flatten two arrays together, use EXTEND NOT append\n",
    "my_list_a.extend(my_list_b)\n",
    "print (my_list_a)"
   ]
  },
  {
   "cell_type": "code",
   "execution_count": 85,
   "id": "18c42a7b",
   "metadata": {},
   "outputs": [
    {
     "name": "stdout",
     "output_type": "stream",
     "text": [
      "['the cat ran up the hill']\n"
     ]
    }
   ],
   "source": [
    "my_ex_str = \"the cat ran up the hill\"\n",
    "#tokenize the text above\n",
    "tokenize_text = my_ex_str.split(\" ,\")\n",
    "print (tokenize_text)"
   ]
  },
  {
   "cell_type": "code",
   "execution_count": 57,
   "id": "77536d0f",
   "metadata": {},
   "outputs": [
    {
     "name": "stdout",
     "output_type": "stream",
     "text": [
      "['the', 'cat', 'ran', 'up', 'the', 'hill']\n"
     ]
    }
   ],
   "source": [
    "my_ex_str_comma = \"the cat ran up the hill\"\n",
    "\n",
    "my_ar = my_ex_str_comma.split()\n",
    "\n",
    "print (my_ar)"
   ]
  },
  {
   "cell_type": "code",
   "execution_count": 60,
   "id": "959e247d",
   "metadata": {},
   "outputs": [
    {
     "name": "stdout",
     "output_type": "stream",
     "text": [
      "the cat ran up the hill\n"
     ]
    }
   ],
   "source": [
    "#join text together\n",
    "my_join = ' '.join(my_ar)\n",
    "print (my_join)"
   ]
  },
  {
   "cell_type": "code",
   "execution_count": 61,
   "id": "0d6f957e",
   "metadata": {},
   "outputs": [
    {
     "name": "stdout",
     "output_type": "stream",
     "text": [
      "{'patrick'}\n"
     ]
    }
   ],
   "source": [
    "#set\n",
    "#my_set = {}\n",
    "my_set = set()\n",
    "my_set.add(\"patrick\")\n",
    "print (my_set)"
   ]
  },
  {
   "cell_type": "code",
   "execution_count": 63,
   "id": "7a1cd25b",
   "metadata": {},
   "outputs": [
    {
     "name": "stdout",
     "output_type": "stream",
     "text": [
      "{'patrick', 'Patrick'}\n"
     ]
    }
   ],
   "source": [
    "#python IS case sensitive\n",
    "my_set.add(\"Patrick\")\n",
    "print (my_set)"
   ]
  },
  {
   "cell_type": "code",
   "execution_count": 67,
   "id": "f7d75633",
   "metadata": {},
   "outputs": [],
   "source": [
    "my_set_a = {\"fishing\", \"soccer\", \"20-24\", \"audi\"}\n",
    "my_set_b = {\"hunting\", \"soccer\", \"65+\", \"volvo\"}"
   ]
  },
  {
   "cell_type": "code",
   "execution_count": 69,
   "id": "8131a014",
   "metadata": {},
   "outputs": [
    {
     "name": "stdout",
     "output_type": "stream",
     "text": [
      "{'soccer', 'volvo', '65+', 'hunting'}\n"
     ]
    }
   ],
   "source": [
    "print (my_set_b)"
   ]
  },
  {
   "cell_type": "code",
   "execution_count": 70,
   "id": "8185e200",
   "metadata": {},
   "outputs": [
    {
     "name": "stdout",
     "output_type": "stream",
     "text": [
      "{'soccer'}\n"
     ]
    }
   ],
   "source": [
    "#intersection\n",
    "my_intersection = my_set_a.intersection(my_set_b)\n",
    "print (my_intersection)"
   ]
  },
  {
   "cell_type": "code",
   "execution_count": 71,
   "id": "e4744d70",
   "metadata": {},
   "outputs": [
    {
     "name": "stdout",
     "output_type": "stream",
     "text": [
      "{'audi', '65+', 'volvo', 'hunting', 'soccer', '20-24', 'fishing'}\n"
     ]
    }
   ],
   "source": [
    "my_union = my_set_a.union(my_set_b)\n",
    "print (my_union)"
   ]
  },
  {
   "cell_type": "code",
   "execution_count": 73,
   "id": "83b08a3f",
   "metadata": {},
   "outputs": [
    {
     "name": "stdout",
     "output_type": "stream",
     "text": [
      "{'volvo', '65+', 'hunting'}\n"
     ]
    }
   ],
   "source": [
    "#difference\n",
    "print (my_set_b.difference(my_set_a))"
   ]
  },
  {
   "cell_type": "code",
   "execution_count": 75,
   "id": "5459cd34",
   "metadata": {},
   "outputs": [
    {
     "name": "stdout",
     "output_type": "stream",
     "text": [
      "{'fishing', '65+', 'audi', 'volvo', '20-24', 'hunting'}\n"
     ]
    }
   ],
   "source": [
    "#symmetric difference\n",
    "print (my_set_a.symmetric_difference(my_set_b))"
   ]
  },
  {
   "cell_type": "code",
   "execution_count": 76,
   "id": "fd2692b6",
   "metadata": {},
   "outputs": [
    {
     "name": "stdout",
     "output_type": "stream",
     "text": [
      "[1, 1, 4, 5, 6, 7, 10, 10]\n"
     ]
    }
   ],
   "source": [
    "my_list_conv = [1,1,4,5,6,7,10,10]\n",
    "print (my_list_conv)"
   ]
  },
  {
   "cell_type": "code",
   "execution_count": 77,
   "id": "f9c51d3e",
   "metadata": {},
   "outputs": [
    {
     "name": "stdout",
     "output_type": "stream",
     "text": [
      "{1, 4, 5, 6, 7, 10}\n"
     ]
    }
   ],
   "source": [
    "my_list_conv_set = set(my_list_conv)\n",
    "print (my_list_conv_set)"
   ]
  },
  {
   "cell_type": "code",
   "execution_count": 80,
   "id": "5ce29ed1",
   "metadata": {},
   "outputs": [
    {
     "name": "stdout",
     "output_type": "stream",
     "text": [
      "the cat chase the dog up the hill\n"
     ]
    }
   ],
   "source": [
    "my_str_ex = \"The CAT chase the Dog up the hill\"\n",
    "print (my_str_ex.lower())"
   ]
  },
  {
   "cell_type": "code",
   "execution_count": 86,
   "id": "4f668c85",
   "metadata": {},
   "outputs": [
    {
     "name": "stdout",
     "output_type": "stream",
     "text": [
      "{1, 2, 3}\n"
     ]
    }
   ],
   "source": [
    "a = [1,1,2,3]\n",
    "b = set(a)\n",
    "print (b)"
   ]
  },
  {
   "cell_type": "code",
   "execution_count": 87,
   "id": "b0bddce6",
   "metadata": {},
   "outputs": [
    {
     "name": "stdout",
     "output_type": "stream",
     "text": [
      "{1, 2, 3}\n"
     ]
    }
   ],
   "source": [
    "a.append(32443)\n",
    "print (b)"
   ]
  },
  {
   "cell_type": "code",
   "execution_count": null,
   "id": "d7cb3a89",
   "metadata": {},
   "outputs": [],
   "source": []
  }
 ],
 "metadata": {
  "kernelspec": {
   "display_name": "Python 3",
   "language": "python",
   "name": "python3"
  },
  "language_info": {
   "codemirror_mode": {
    "name": "ipython",
    "version": 3
   },
   "file_extension": ".py",
   "mimetype": "text/x-python",
   "name": "python",
   "nbconvert_exporter": "python",
   "pygments_lexer": "ipython3",
   "version": "3.8.8"
  }
 },
 "nbformat": 4,
 "nbformat_minor": 5
}
